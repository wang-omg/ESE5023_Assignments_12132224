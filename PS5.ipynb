{
 "cells": [
  {
   "cell_type": "code",
   "execution_count": 2,
   "id": "fe951b2b",
   "metadata": {
    "scrolled": true
   },
   "outputs": [],
   "source": [
    "import numpy as np\n",
    "import matplotlib.pyplot as plt\n",
    "import numpy as np\n",
    "%matplotlib inline\n",
    "from scipy import integrate\n",
    "from numpy import exp"
   ]
  },
  {
   "cell_type": "code",
   "execution_count": 89,
   "id": "3ad7af39",
   "metadata": {},
   "outputs": [
    {
     "data": {
      "text/plain": [
       "array([2.63333333, 2.70187793, 2.80187793, 2.85821596, 2.88779343,\n",
       "       2.92910798, 2.90046948, 2.89765258, 2.95023474, 3.01502347,\n",
       "       3.07511737, 3.12816901, 3.11643192, 3.09107981, 3.16901408,\n",
       "       3.24694836, 3.27746479, 3.47276995, 3.65352113])"
      ]
     },
     "execution_count": 89,
     "metadata": {},
     "output_type": "execute_result"
    }
   ],
   "source": [
    "#1.1先换算单位，来自CDIAC的排放单位是百万吨，为10^12g,文章中则为10^15g，CDIAC的查到的数据γ应先除以1000再除以2.13得到ppm单位的值\n",
    "γ_CDIAC=np.array([5609,5755, 5968, 6088, 6151, 6239, 6178, 6172, 6284, 6422, 6550, 6663, 6638, 6584, 6750, 6916, 6981, 7397, 7782])\n",
    "γ2=np.array([2130])\n",
    "γ=γ_CDIAC/γ2\n",
    "γ"
   ]
  },
  {
   "cell_type": "code",
   "execution_count": 72,
   "id": "8427f84b",
   "metadata": {},
   "outputs": [
    {
     "name": "stdout",
     "output_type": "stream",
     "text": [
      "[[347.         423.        ]\n",
      " [348.31405983 424.31594017]\n",
      " [349.5951882  425.6648118 ]\n",
      " [350.85080547 427.03919453]\n",
      " [352.08665182 428.43334818]\n",
      " [353.30718477 429.84281523]\n",
      " [354.51585357 431.26414643]\n",
      " [355.7153081  432.6946919 ]\n",
      " [356.90766042 434.13233958]\n",
      " [358.09449747 435.57550253]\n",
      " [359.2770592  437.0229408 ]\n",
      " [360.45630904 438.47369096]\n",
      " [361.63299185 439.92700815]\n",
      " [362.80768616 441.38231384]\n",
      " [363.98084138 442.83915862]\n",
      " [365.1528034  444.2971966 ]\n",
      " [366.32384034 445.75615966]\n",
      " [367.49416131 447.21583869]\n",
      " [368.66392729 448.67607271]]\n"
     ]
    }
   ],
   "source": [
    "from scipy.integrate import odeint\n",
    "def model(y ,t):\n",
    "    NA,NB = y\n",
    "    k12 = 105/740\n",
    "    k21 = 102/900\n",
    "    gama = 2.63\n",
    "    dydt = [-k12 * NA + k21 * NB + gama, k12 * NA - k21 * NB]\n",
    "    return dydt\n",
    "t = np.linspace(0,18,19)\n",
    "y0=[ 347,423]\n",
    "\n",
    "for i in range(0,18):\n",
    "    gama=γ[i]\n",
    "    y = odeint(model, y0, t)\n",
    "    y\n",
    "print (y)"
   ]
  },
  {
   "cell_type": "code",
   "execution_count": 79,
   "id": "52891c4f",
   "metadata": {},
   "outputs": [
    {
     "data": {
      "text/plain": [
       "9.927463800000002"
      ]
     },
     "execution_count": 79,
     "metadata": {},
     "output_type": "execute_result"
    }
   ],
   "source": [
    "#buffer_effect是一个用NA 值套娃得到的值，先算出1986年的\n",
    "buffer_effect1 = 3.69 + 1.86 * 0.01 * 347 -1.80 * 0.000001 * 347*347\n",
    "buffer_effect1 "
   ]
  },
  {
   "cell_type": "code",
   "execution_count": 82,
   "id": "5497e70d",
   "metadata": {},
   "outputs": [
    {
     "name": "stdout",
     "output_type": "stream",
     "text": [
      "[[347.         423.        ]\n",
      " [370.55402924 402.07597076]\n",
      " [378.87113701 396.38886299]\n",
      " [382.89276091 394.99723909]\n",
      " [385.70343382 394.81656618]\n",
      " [388.17272507 394.97727493]\n",
      " [390.54577642 395.23422358]\n",
      " [392.89169732 395.51830268]\n",
      " [395.22996974 395.81003026]\n",
      " [397.56608588 396.10391412]\n",
      " [399.90159352 396.39840648]\n",
      " [402.23693004 396.69306996]\n",
      " [404.57221883 396.98778117]\n",
      " [406.90749337 397.28250663]\n",
      " [409.24276424 397.57723576]\n",
      " [411.5780341  397.8719659 ]\n",
      " [413.91330379 398.16669621]\n",
      " [416.24857324 398.46142676]\n",
      " [418.58384261 398.75615739]]\n"
     ]
    }
   ],
   "source": [
    "#1.2 N02的值为821，转化为ppm为385,buffer_effect=0.44\n",
    "def model(y, t):\n",
    "    NA,NB = y\n",
    "    k12 = 105/740\n",
    "    k21 = 102/900\n",
    "    N02 = 385\n",
    "    gama =2.63\n",
    "    buffer_effect =9.92\n",
    "    dydt = [-k12 * NA + k21 *(N02 + buffer_effect*(NB-N02)) + 2.63, k12 * NA - k21 * (N02 + buffer_effect*(NB-N02))]\n",
    "    return dydt\n",
    "t = np.linspace(0,18,19)\n",
    "y0=[347,423]\n",
    "\n",
    "for i in range(0,18):\n",
    "    gama=γ[i]\n",
    "    buffer_effect= 3.69 + 1.86 * 0.01 * y[i,1] -1.80 * 0.000001 * y[i,1]*y[i,1]\n",
    "    y = odeint(model, y0, t)\n",
    "    y\n",
    "print (y)"
   ]
  },
  {
   "cell_type": "code",
   "execution_count": 88,
   "id": "94973ea3",
   "metadata": {},
   "outputs": [
    {
     "data": {
      "image/png": "[encoded data removed]",
      "text/plain": [
       "<Figure size 432x288 with 1 Axes>"
      ]
     },
     "metadata": {
      "needs_background": "light"
     },
     "output_type": "display_data"
    }
   ],
   "source": [
    "t=np.array([1987,1988,1989,1990,1991,1992,1993,1994,1995,1996,1997,1998,1999,2000,2001,2002,2003,2004])\n",
    "y1=np.array([348.31405983,349.5951882,350.85080547,352.08665182 ,353.30718477 ,354.51585357 ,355.7153081  ,356.90766042 ,\n",
    "                 358.09449747,359.2770592  ,360.45630904 ,361.63299185 ,362.80768616 ,363.98084138 ,365.1528034,\n",
    "                 366.32384034,367.49416131,368.66392729])\n",
    "y2=np.array([370.55402924,378.87113701,382.89276091,385.70343382,388.17272507,390.54577642,392.89169732,\n",
    "              395.22996974,397.56608588,399.90159352,402.23693004,404.57221883,406.90749337,409.24276424,\n",
    "              411.5780341,413.91330379,416.24857324,418.58384261])\n",
    "import matplotlib.pyplot as plt\n",
    "plt.plot(t,y1 , 'b', label='no_buffer_effect')\n",
    "plt.plot(t,y2, 'g', label='with_buffer_effect')\n",
    "plt.legend(loc='best')\n",
    "plt.xlabel('t')\n",
    "plt.show()\n"
   ]
  },
  {
   "cell_type": "code",
   "execution_count": null,
   "id": "feee9d9a",
   "metadata": {},
   "outputs": [],
   "source": []
  }
 ],
 "metadata": {
  "kernelspec": {
   "display_name": "Python 3 (ipykernel)",
   "language": "python",
   "name": "python3"
  },
  "language_info": {
   "codemirror_mode": {
    "name": "ipython",
    "version": 3
   },
   "file_extension": ".py",
   "mimetype": "text/x-python",
   "name": "python",
   "nbconvert_exporter": "python",
   "pygments_lexer": "ipython3",
   "version": "3.9.12"
  }
 },
 "nbformat": 4,
 "nbformat_minor": 5
}
